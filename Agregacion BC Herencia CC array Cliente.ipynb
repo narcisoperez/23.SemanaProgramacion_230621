{
 "cells": [
  {
   "cell_type": "markdown",
   "metadata": {},
   "source": [
    "## Agregación\n",
    "\n",
    "Banco agrega Cliente y Cliente agrega Cuenta"
   ]
  },
  {
   "cell_type": "code",
   "execution_count": 23,
   "metadata": {},
   "outputs": [],
   "source": [
    "class Cuenta:\n",
    "    \"\"\"\n",
    "    inicializamos los atributos de la clase\n",
    "    :version:\n",
    "    :author:\n",
    "    \"\"\"\n",
    "    def __init__(self, tipo, cantidad):\n",
    "        self.tipo=tipo\n",
    "        self.cantidad=cantidad\n",
    "\n",
    "    def imprimir(self):\n",
    "        print(\"Tipo: \",self.tipo)\n",
    "        print(\"Cantidad: \",self.cantidad)\n"
   ]
  },
  {
   "cell_type": "code",
   "execution_count": null,
   "metadata": {},
   "outputs": [],
   "source": []
  },
  {
   "cell_type": "code",
   "execution_count": 24,
   "metadata": {},
   "outputs": [],
   "source": [
    "# coding=System\n",
    "#from CajaAhorro import *\n",
    "#from PlazoFijo import *\n",
    "\n",
    "class Cliente:\n",
    "    \"\"\"\n",
    "    inicializamos\n",
    "    :version:\n",
    "    :author:\n",
    "    \"\"\"\n",
    "    \"\"\" ATTRIBUTES\n",
    "    nombre  (public)\n",
    "    cantidad  (public)\n",
    "    CajaAhorro  (public)\n",
    "    PlazoFijo  (public)\n",
    "    \"\"\"\n",
    "\n",
    "    def __init__(self, nombre):\n",
    "        \"\"\"\n",
    "        función para depositar dinero\n",
    "        @param string nombre : \n",
    "        @return string :\n",
    "        @author\n",
    "        \"\"\"\n",
    "        self.nombre=nombre\n",
    "        self.cuenta=Cuenta(\"pf\",1000)\n",
    "        #self.CajaAhorro=CajaAhorro(self.nombre,0)\n",
    "        #self.PlazoFijo=PlazoFijo(self.nombre,0,0,0)\n",
    "    \n",
    "    def mostrar_cuenta(self):\n",
    "        print(self.nombre)\n",
    "        self.cuenta.imprimir()"
   ]
  },
  {
   "cell_type": "code",
   "execution_count": 25,
   "metadata": {},
   "outputs": [],
   "source": [
    "class Banco:\n",
    "    \"\"\"\n",
    "    inicializamos\n",
    "    :version:\n",
    "    :author:\n",
    "    \"\"\"\n",
    "\n",
    "    def __init__(self, cliente):\n",
    "        \"\"\"\n",
    "        función para operar\n",
    "        @return string :\n",
    "        @author\n",
    "        \"\"\"\n",
    "        self.cliente= cliente"
   ]
  },
  {
   "cell_type": "markdown",
   "metadata": {},
   "source": [
    "### Banco agrega un array de clientes"
   ]
  },
  {
   "cell_type": "code",
   "execution_count": 18,
   "metadata": {},
   "outputs": [],
   "source": [
    "cliente =[]\n",
    "cliente.insert(0,Cliente(\"Pepe\"))\n",
    "cliente.insert(1,Cliente(\"Jose\"))               \n",
    "banco=Banco(cliente)"
   ]
  },
  {
   "cell_type": "markdown",
   "metadata": {},
   "source": [
    "### Usando el índice del array puede ir al cliente deseado"
   ]
  },
  {
   "cell_type": "code",
   "execution_count": 19,
   "metadata": {
    "scrolled": true
   },
   "outputs": [
    {
     "data": {
      "text/plain": [
       "'Pepe'"
      ]
     },
     "execution_count": 19,
     "metadata": {},
     "output_type": "execute_result"
    }
   ],
   "source": [
    "banco.cliente[0].nombre"
   ]
  },
  {
   "cell_type": "markdown",
   "metadata": {},
   "source": [
    "### Desde banco puede llegar a los métodos de Cliente, del cliente especificado, que a su vez acceden a métodos de Cuenta"
   ]
  },
  {
   "cell_type": "code",
   "execution_count": 22,
   "metadata": {
    "scrolled": true
   },
   "outputs": [
    {
     "name": "stdout",
     "output_type": "stream",
     "text": [
      "Pepe\n",
      "Tipo:  pf\n",
      "Cantidad:  1000\n"
     ]
    }
   ],
   "source": [
    "banco.cliente[0].mostrar_cuenta()"
   ]
  },
  {
   "cell_type": "markdown",
   "metadata": {},
   "source": [
    "### Desde banco puede llegar a los métodos de Cuenta, del cliente especificado"
   ]
  },
  {
   "cell_type": "code",
   "execution_count": 21,
   "metadata": {},
   "outputs": [
    {
     "name": "stdout",
     "output_type": "stream",
     "text": [
      "Tipo:  pf\n",
      "Cantidad:  1000\n"
     ]
    }
   ],
   "source": [
    "banco.cliente[0].cuenta.imprimir()"
   ]
  },
  {
   "cell_type": "code",
   "execution_count": null,
   "metadata": {},
   "outputs": [],
   "source": []
  }
 ],
 "metadata": {
  "kernelspec": {
   "display_name": "Python 3",
   "language": "python",
   "name": "python3"
  },
  "language_info": {
   "codemirror_mode": {
    "name": "ipython",
    "version": 3
   },
   "file_extension": ".py",
   "mimetype": "text/x-python",
   "name": "python",
   "nbconvert_exporter": "python",
   "pygments_lexer": "ipython3",
   "version": "3.6.12"
  }
 },
 "nbformat": 4,
 "nbformat_minor": 4
}
