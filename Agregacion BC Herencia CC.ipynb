{
 "cells": [
  {
   "cell_type": "code",
   "execution_count": null,
   "metadata": {},
   "outputs": [],
   "source": []
  },
  {
   "cell_type": "code",
   "execution_count": 36,
   "metadata": {},
   "outputs": [],
   "source": [
    "class Cuenta:\n",
    "    \"\"\"\n",
    "    inicializamos los atributos de la clase\n",
    "    :version:\n",
    "    :author:\n",
    "    \"\"\"\n",
    "    def __init__(self, tipo, cantidad):\n",
    "        self.tipo=tipo\n",
    "        self.cantidad=cantidad\n",
    "\n",
    "    def imprimir(self):\n",
    "        print(\"Tipo: \",self.tipo)\n",
    "        print(\"Cantidad: \",self.cantidad)\n"
   ]
  },
  {
   "cell_type": "code",
   "execution_count": null,
   "metadata": {},
   "outputs": [],
   "source": []
  },
  {
   "cell_type": "code",
   "execution_count": 37,
   "metadata": {},
   "outputs": [],
   "source": [
    "# coding=System\n",
    "#from CajaAhorro import *\n",
    "#from PlazoFijo import *\n",
    "\n",
    "class Cliente(Cuenta):\n",
    "    \"\"\"\n",
    "    inicializamos\n",
    "    :version:\n",
    "    :author:\n",
    "    \"\"\"\n",
    "    \"\"\" ATTRIBUTES\n",
    "    nombre  (public)\n",
    "    cantidad  (public)\n",
    "    CajaAhorro  (public)\n",
    "    PlazoFijo  (public)\n",
    "    \"\"\"\n",
    "\n",
    "    def __init__(self, nombre):\n",
    "        \"\"\"\n",
    "        función para depositar dinero\n",
    "        @param string nombre : \n",
    "        @return string :\n",
    "        @author\n",
    "        \"\"\"\n",
    "        self.nombre=nombre\n",
    "        Cuenta.__init__(self, \"pf\",1000)\n",
    "        #self.CajaAhorro=CajaAhorro(self.nombre,0)\n",
    "        #self.PlazoFijo=PlazoFijo(self.nombre,0,0,0)\n",
    "    \n",
    "    def cuenta(self):\n",
    "        print(self.nombre)\n",
    "        super().imprimir()"
   ]
  },
  {
   "cell_type": "code",
   "execution_count": 38,
   "metadata": {},
   "outputs": [],
   "source": [
    "class Banco:\n",
    "    \"\"\"\n",
    "    inicializamos\n",
    "    :version:\n",
    "    :author:\n",
    "    \"\"\"\n",
    "\n",
    "    def __init__(self, cliente):\n",
    "        \"\"\"\n",
    "        función para operar\n",
    "        @return string :\n",
    "        @author\n",
    "        \"\"\"\n",
    "        self.cliente= cliente"
   ]
  },
  {
   "cell_type": "code",
   "execution_count": 39,
   "metadata": {},
   "outputs": [],
   "source": [
    "cuenta=Cuenta(\"pf\",1000)"
   ]
  },
  {
   "cell_type": "code",
   "execution_count": 40,
   "metadata": {},
   "outputs": [],
   "source": [
    "cliente=Cliente(\"Pepe\")\n",
    "banco=Banco(cliente)"
   ]
  },
  {
   "cell_type": "code",
   "execution_count": 41,
   "metadata": {},
   "outputs": [
    {
     "data": {
      "text/plain": [
       "'Pepe'"
      ]
     },
     "execution_count": 41,
     "metadata": {},
     "output_type": "execute_result"
    }
   ],
   "source": [
    "banco.cliente.nombre"
   ]
  },
  {
   "cell_type": "code",
   "execution_count": 42,
   "metadata": {},
   "outputs": [
    {
     "data": {
      "text/plain": [
       "1000"
      ]
     },
     "execution_count": 42,
     "metadata": {},
     "output_type": "execute_result"
    }
   ],
   "source": [
    "banco.cliente.cantidad"
   ]
  },
  {
   "cell_type": "code",
   "execution_count": 43,
   "metadata": {},
   "outputs": [
    {
     "name": "stdout",
     "output_type": "stream",
     "text": [
      "Pepe\n",
      "Tipo:  pf\n",
      "Cantidad:  1000\n"
     ]
    }
   ],
   "source": [
    "banco.cliente.cuenta()"
   ]
  },
  {
   "cell_type": "code",
   "execution_count": 24,
   "metadata": {},
   "outputs": [
    {
     "data": {
      "text/plain": [
       "'Pepe'"
      ]
     },
     "execution_count": 24,
     "metadata": {},
     "output_type": "execute_result"
    }
   ],
   "source": []
  },
  {
   "cell_type": "code",
   "execution_count": null,
   "metadata": {},
   "outputs": [],
   "source": []
  }
 ],
 "metadata": {
  "kernelspec": {
   "display_name": "Python 3",
   "language": "python",
   "name": "python3"
  },
  "language_info": {
   "codemirror_mode": {
    "name": "ipython",
    "version": 3
   },
   "file_extension": ".py",
   "mimetype": "text/x-python",
   "name": "python",
   "nbconvert_exporter": "python",
   "pygments_lexer": "ipython3",
   "version": "3.6.12"
  }
 },
 "nbformat": 4,
 "nbformat_minor": 4
}
