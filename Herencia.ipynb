{
 "cells": [
  {
   "cell_type": "code",
   "execution_count": 36,
   "metadata": {},
   "outputs": [],
   "source": [
    "# coding=System\n",
    "#from CajaAhorro import *\n",
    "#from PlazoFijo import *\n",
    "\n",
    "class Cliente:\n",
    "    \"\"\"\n",
    "    inicializamos\n",
    "    :version:\n",
    "    :author:\n",
    "    \"\"\"\n",
    "    \"\"\" ATTRIBUTES\n",
    "    nombre  (public)\n",
    "    cantidad  (public)\n",
    "    CajaAhorro  (public)\n",
    "    PlazoFijo  (public)\n",
    "    \"\"\"\n",
    "\n",
    "    def __init__(self, nombre):\n",
    "        \"\"\"\n",
    "        función para depositar dinero\n",
    "        @param string nombre : \n",
    "        @return string :\n",
    "        @author\n",
    "        \"\"\"\n",
    "        self.nombre=nombre\n",
    "        self.cantidad=0\n",
    "        #self.CajaAhorro=CajaAhorro(self.nombre,0)\n",
    "        #self.PlazoFijo=PlazoFijo(self.nombre,0,0,0)\n",
    "    \n",
    "    def mostrar(self):\n",
    "        print(self.nombre)\n",
    "        "
   ]
  },
  {
   "cell_type": "code",
   "execution_count": 46,
   "metadata": {},
   "outputs": [],
   "source": [
    "class Banco(Cliente):\n",
    "    \"\"\"\n",
    "    inicializamos\n",
    "    :version:\n",
    "    :author:\n",
    "    \"\"\"\n",
    " \n",
    "    def __init__(self):\n",
    "        \"\"\"\n",
    "        función para operar\n",
    "        @return string :\n",
    "        @author\n",
    "        \"\"\"\n",
    "        Cliente.__init__(self,\"Pepe\")\n",
    "        \n",
    "    def cliente(self):\n",
    "        super().mostrar()\n",
    "        \n"
   ]
  },
  {
   "cell_type": "code",
   "execution_count": 50,
   "metadata": {},
   "outputs": [],
   "source": [
    "banco1=Banco()\n",
    "banco2=Banco()"
   ]
  },
  {
   "cell_type": "code",
   "execution_count": 62,
   "metadata": {},
   "outputs": [
    {
     "name": "stdout",
     "output_type": "stream",
     "text": [
      "Pepe\n"
     ]
    }
   ],
   "source": [
    "banco1.cliente()"
   ]
  },
  {
   "cell_type": "code",
   "execution_count": 57,
   "metadata": {},
   "outputs": [
    {
     "data": {
      "text/plain": [
       "<__main__.Banco at 0x26d701c4a08>"
      ]
     },
     "execution_count": 57,
     "metadata": {},
     "output_type": "execute_result"
    }
   ],
   "source": [
    "arr = []\n",
    "arr.insert(0,banco1)\n"
   ]
  },
  {
   "cell_type": "code",
   "execution_count": 71,
   "metadata": {},
   "outputs": [
    {
     "name": "stdout",
     "output_type": "stream",
     "text": [
      "Pepe\n"
     ]
    }
   ],
   "source": [
    "arr[0].mostrar()"
   ]
  },
  {
   "cell_type": "code",
   "execution_count": 63,
   "metadata": {},
   "outputs": [],
   "source": [
    "arr.insert(1,banco2)"
   ]
  },
  {
   "cell_type": "code",
   "execution_count": 64,
   "metadata": {},
   "outputs": [
    {
     "name": "stdout",
     "output_type": "stream",
     "text": [
      "Pepe\n"
     ]
    }
   ],
   "source": [
    "arr[1].mostrar()"
   ]
  },
  {
   "cell_type": "code",
   "execution_count": 68,
   "metadata": {},
   "outputs": [],
   "source": [
    "import numpy as np\n",
    "\n",
    "arrnp =np.array([banco1,banco2])"
   ]
  },
  {
   "cell_type": "code",
   "execution_count": 70,
   "metadata": {},
   "outputs": [
    {
     "data": {
      "text/plain": [
       "<__main__.Banco at 0x26d701c4a08>"
      ]
     },
     "execution_count": 70,
     "metadata": {},
     "output_type": "execute_result"
    }
   ],
   "source": [
    "arrnp[0]."
   ]
  }
 ],
 "metadata": {
  "kernelspec": {
   "display_name": "Python 3",
   "language": "python",
   "name": "python3"
  },
  "language_info": {
   "codemirror_mode": {
    "name": "ipython",
    "version": 3
   },
   "file_extension": ".py",
   "mimetype": "text/x-python",
   "name": "python",
   "nbconvert_exporter": "python",
   "pygments_lexer": "ipython3",
   "version": "3.7.6"
  }
 },
 "nbformat": 4,
 "nbformat_minor": 4
}
