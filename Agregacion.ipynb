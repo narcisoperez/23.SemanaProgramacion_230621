{
 "cells": [
  {
   "cell_type": "code",
   "execution_count": null,
   "metadata": {},
   "outputs": [],
   "source": []
  },
  {
   "cell_type": "code",
   "execution_count": 1,
   "metadata": {},
   "outputs": [],
   "source": [
    "# coding=System\n",
    "#from CajaAhorro import *\n",
    "#from PlazoFijo import *\n",
    "\n",
    "class Cliente:\n",
    "    \"\"\"\n",
    "    inicializamos\n",
    "    :version:\n",
    "    :author:\n",
    "    \"\"\"\n",
    "    \"\"\" ATTRIBUTES\n",
    "    nombre  (public)\n",
    "    cantidad  (public)\n",
    "    CajaAhorro  (public)\n",
    "    PlazoFijo  (public)\n",
    "    \"\"\"\n",
    "\n",
    "    def __init__(self, nombre):\n",
    "        \"\"\"\n",
    "        función para depositar dinero\n",
    "        @param string nombre : \n",
    "        @return string :\n",
    "        @author\n",
    "        \"\"\"\n",
    "        self.nombre=nombre\n",
    "        self.cantidad=0\n",
    "        #self.CajaAhorro=CajaAhorro(self.nombre,0)\n",
    "        #self.PlazoFijo=PlazoFijo(self.nombre,0,0,0)"
   ]
  },
  {
   "cell_type": "code",
   "execution_count": 3,
   "metadata": {},
   "outputs": [],
   "source": [
    "class Banco:\n",
    "    \"\"\"\n",
    "    inicializamos\n",
    "    :version:\n",
    "    :author:\n",
    "    \"\"\"\n",
    "    \"\"\" ATTRIBUTES\n",
    "    cliente1  (public)\n",
    "    cliente2  (public)\n",
    "    cliente3  (public)\n",
    "    \"\"\"\n",
    "    def __init__(self, cliente):\n",
    "        \"\"\"\n",
    "        función para operar\n",
    "        @return string :\n",
    "        @author\n",
    "        \"\"\"\n",
    "        self.cliente= cliente"
   ]
  },
  {
   "cell_type": "code",
   "execution_count": 4,
   "metadata": {},
   "outputs": [],
   "source": [
    "cliente=Cliente(\"Pepe\")\n",
    "banco=Banco(cliente)"
   ]
  },
  {
   "cell_type": "code",
   "execution_count": 5,
   "metadata": {},
   "outputs": [
    {
     "data": {
      "text/plain": [
       "'Pepe'"
      ]
     },
     "execution_count": 5,
     "metadata": {},
     "output_type": "execute_result"
    }
   ],
   "source": [
    "banco.cliente.nombre"
   ]
  }
 ],
 "metadata": {
  "kernelspec": {
   "display_name": "Python 3",
   "language": "python",
   "name": "python3"
  },
  "language_info": {
   "codemirror_mode": {
    "name": "ipython",
    "version": 3
   },
   "file_extension": ".py",
   "mimetype": "text/x-python",
   "name": "python",
   "nbconvert_exporter": "python",
   "pygments_lexer": "ipython3",
   "version": "3.7.6"
  }
 },
 "nbformat": 4,
 "nbformat_minor": 4
}
