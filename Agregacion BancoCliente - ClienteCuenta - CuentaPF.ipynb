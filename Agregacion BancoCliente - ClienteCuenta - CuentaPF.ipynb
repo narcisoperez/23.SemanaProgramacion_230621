{
 "cells": [
  {
   "cell_type": "markdown",
   "metadata": {},
   "source": [
    "## Agregación\n",
    "\n",
    "Agregamos PlazFijo al modelo"
   ]
  },
  {
   "cell_type": "code",
   "execution_count": null,
   "metadata": {},
   "outputs": [],
   "source": []
  },
  {
   "cell_type": "code",
   "execution_count": 1,
   "metadata": {},
   "outputs": [],
   "source": [
    "# coding=System\n",
    "\n",
    "class PlazoFijo:\n",
    "    \"\"\"\n",
    "    inicializamos los atributos de la clase\n",
    "    :version:\n",
    "    :author:\n",
    "    \"\"\"\n",
    "  \n",
    "    def __init__(self, cantidad, plazo, interes):\n",
    "        \"\"\"\n",
    "        calculamos la ganancia\n",
    "        @param string titular : \n",
    "        @param string cantidad : \n",
    "        @param string plazo : \n",
    "        @param string interes : \n",
    "        @return string :\n",
    "        @author\n",
    "        \"\"\"\n",
    "        self.cantidad=cantidad\n",
    "        self.plazo=plazo\n",
    "        self.interes=interes\n",
    "\n",
    "    def ganancia(self):\n",
    "        \"\"\"\n",
    "        imprimimos los resultados\n",
    "        @return string :\n",
    "        @author\n",
    "        \"\"\"\n",
    "        ganancia=self.cantidad*self.interes/100\n",
    "        print(\"El importe de interés es: \",ganancia)\n",
    "\n",
    "    def imprimir(self):\n",
    "        \"\"\"\n",
    "        creamos la clase Cliente\n",
    "        @return string :\n",
    "        @author\n",
    "        \"\"\"\n",
    "        print(\"Cuenta a plazo fijo\")\n",
    "        print(\"Plazo disponible en días: \",self.plazo)\n",
    "        print(\"Interés: \",self.interes)\n",
    "        self.ganancia()"
   ]
  },
  {
   "cell_type": "code",
   "execution_count": 2,
   "metadata": {},
   "outputs": [],
   "source": [
    "class Cuenta:\n",
    "    \"\"\"\n",
    "    inicializamos los atributos de la clase\n",
    "    :version:\n",
    "    :author:\n",
    "    \"\"\"\n",
    "    def __init__(self, tipo, cantidad):\n",
    "        self.tipo=tipo\n",
    "        self.cantidad=cantidad\n",
    "\n",
    "    def imprimir(self):\n",
    "        print(\"Tipo: \",self.tipo)\n",
    "        print(\"Cantidad: \",self.cantidad)\n",
    "    \n",
    "    def pf(self, plasof):\n",
    "        self.pf=plasof\n"
   ]
  },
  {
   "cell_type": "markdown",
   "metadata": {},
   "source": [
    "### ¿Como podría cargar en un cliente varias cuentas?\n",
    "\n",
    "### ¿Podría crear cuentas luego de crear cliente? ¿De que manera le asignaría esa cuenta nueva a un cliente?"
   ]
  },
  {
   "cell_type": "code",
   "execution_count": 3,
   "metadata": {},
   "outputs": [],
   "source": [
    "# coding=System\n",
    "#from CajaAhorro import *\n",
    "#from PlazoFijo import *\n",
    "\n",
    "class Cliente:\n",
    "    \"\"\"\n",
    "    inicializamos\n",
    "    :version:\n",
    "    :author:\n",
    "    \"\"\"\n",
    "    \"\"\" ATTRIBUTES\n",
    "    nombre  (public)\n",
    "    cantidad  (public)\n",
    "    CajaAhorro  (public)\n",
    "    PlazoFijo  (public)\n",
    "    \"\"\"\n",
    "\n",
    "    def __init__(self, nombre):\n",
    "        \"\"\"\n",
    "        función para depositar dinero\n",
    "        @param string nombre : \n",
    "        @return string :\n",
    "        @author\n",
    "        \"\"\"\n",
    "        self.nombre=nombre\n",
    "        self.cuenta=Cuenta(\"pf\",1000)\n",
    "        #self.CajaAhorro=CajaAhorro(self.nombre,0)\n",
    "        #self.PlazoFijo=PlazoFijo(self.nombre,0,0,0)\n",
    "    \n",
    "    def mostrar_cuenta(self):\n",
    "        print(self.nombre)\n",
    "        self.cuenta.imprimir()"
   ]
  },
  {
   "cell_type": "code",
   "execution_count": 4,
   "metadata": {},
   "outputs": [],
   "source": [
    "class Banco:\n",
    "    \"\"\"\n",
    "    inicializamos\n",
    "    :version:\n",
    "    :author:\n",
    "    \"\"\"\n",
    "    def __init__(self, cliente):\n",
    "        \"\"\"\n",
    "        función para operar\n",
    "        @return string :\n",
    "        @author\n",
    "        \"\"\"\n",
    "        self.cliente= cliente"
   ]
  },
  {
   "cell_type": "markdown",
   "metadata": {},
   "source": [
    "### Array de clientes asignado al banco"
   ]
  },
  {
   "cell_type": "code",
   "execution_count": 5,
   "metadata": {},
   "outputs": [],
   "source": [
    "cliente =[]\n",
    "cliente.insert(0,Cliente(\"Pepe\"))\n",
    "cliente.insert(1,Cliente(\"Jose\"))               \n",
    "banco=Banco(cliente)"
   ]
  },
  {
   "cell_type": "code",
   "execution_count": 6,
   "metadata": {},
   "outputs": [
    {
     "data": {
      "text/plain": [
       "'Pepe'"
      ]
     },
     "execution_count": 6,
     "metadata": {},
     "output_type": "execute_result"
    }
   ],
   "source": [
    "banco.cliente[0].nombre"
   ]
  },
  {
   "cell_type": "code",
   "execution_count": 7,
   "metadata": {},
   "outputs": [
    {
     "name": "stdout",
     "output_type": "stream",
     "text": [
      "Jose\n",
      "Tipo:  pf\n",
      "Cantidad:  1000\n"
     ]
    }
   ],
   "source": [
    "banco.cliente[1].mostrar_cuenta()"
   ]
  },
  {
   "cell_type": "code",
   "execution_count": 8,
   "metadata": {},
   "outputs": [
    {
     "name": "stdout",
     "output_type": "stream",
     "text": [
      "Tipo:  pf\n",
      "Cantidad:  1000\n"
     ]
    }
   ],
   "source": [
    "banco.cliente[1].cuenta.imprimir()"
   ]
  },
  {
   "cell_type": "markdown",
   "metadata": {},
   "source": [
    "### Cargo un plazo fijo al cliente 0"
   ]
  },
  {
   "cell_type": "code",
   "execution_count": 9,
   "metadata": {},
   "outputs": [],
   "source": [
    "banco.cliente[0].cuenta.pf(PlazoFijo(1500,2,0.2))"
   ]
  },
  {
   "cell_type": "code",
   "execution_count": 10,
   "metadata": {
    "scrolled": true
   },
   "outputs": [
    {
     "name": "stdout",
     "output_type": "stream",
     "text": [
      "Cuenta a plazo fijo\n",
      "Plazo disponible en días:  2\n",
      "Interés:  0.2\n",
      "El importe de interés es:  3.0\n"
     ]
    }
   ],
   "source": [
    "banco.cliente[0].cuenta.pf.imprimir()"
   ]
  },
  {
   "cell_type": "markdown",
   "metadata": {},
   "source": [
    "### Observar que dado que al cliente 1 no le cargué ún plazo fijo aun, no puedo ejecutar el método imprimir de Plazo Fijo"
   ]
  },
  {
   "cell_type": "code",
   "execution_count": 12,
   "metadata": {},
   "outputs": [
    {
     "ename": "AttributeError",
     "evalue": "'function' object has no attribute 'imprimir'",
     "output_type": "error",
     "traceback": [
      "\u001b[1;31m---------------------------------------------------------------------------\u001b[0m",
      "\u001b[1;31mAttributeError\u001b[0m                            Traceback (most recent call last)",
      "\u001b[1;32m<ipython-input-12-22cc0a3f7586>\u001b[0m in \u001b[0;36m<module>\u001b[1;34m\u001b[0m\n\u001b[1;32m----> 1\u001b[1;33m \u001b[0mbanco\u001b[0m\u001b[1;33m.\u001b[0m\u001b[0mcliente\u001b[0m\u001b[1;33m[\u001b[0m\u001b[1;36m1\u001b[0m\u001b[1;33m]\u001b[0m\u001b[1;33m.\u001b[0m\u001b[0mcuenta\u001b[0m\u001b[1;33m.\u001b[0m\u001b[0mpf\u001b[0m\u001b[1;33m.\u001b[0m\u001b[0mimprimir\u001b[0m\u001b[1;33m(\u001b[0m\u001b[1;33m)\u001b[0m\u001b[1;33m\u001b[0m\u001b[1;33m\u001b[0m\u001b[0m\n\u001b[0m",
      "\u001b[1;31mAttributeError\u001b[0m: 'function' object has no attribute 'imprimir'"
     ]
    }
   ],
   "source": [
    "banco.cliente[1].cuenta.pf.imprimir()"
   ]
  },
  {
   "cell_type": "code",
   "execution_count": null,
   "metadata": {},
   "outputs": [],
   "source": []
  }
 ],
 "metadata": {
  "kernelspec": {
   "display_name": "Python 3",
   "language": "python",
   "name": "python3"
  },
  "language_info": {
   "codemirror_mode": {
    "name": "ipython",
    "version": 3
   },
   "file_extension": ".py",
   "mimetype": "text/x-python",
   "name": "python",
   "nbconvert_exporter": "python",
   "pygments_lexer": "ipython3",
   "version": "3.6.12"
  }
 },
 "nbformat": 4,
 "nbformat_minor": 4
}
