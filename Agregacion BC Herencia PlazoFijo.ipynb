{
 "cells": [
  {
   "cell_type": "code",
   "execution_count": null,
   "metadata": {},
   "outputs": [],
   "source": []
  },
  {
   "cell_type": "code",
   "execution_count": 27,
   "metadata": {},
   "outputs": [],
   "source": [
    "class Cuenta:\n",
    "    \"\"\"\n",
    "    inicializamos los atributos de la clase\n",
    "    :version:\n",
    "    :author:\n",
    "    \"\"\"\n",
    "    def __init__(self, tipo, cantidad):\n",
    "        self.tipo=tipo\n",
    "        self.cantidad=cantidad\n",
    "\n",
    "    def imprimir(self):\n",
    "        print(\"Tipo: \",self.tipo)\n",
    "        print(\"Cantidad: \",self.cantidad)\n",
    "    \n",
    "    def pf(self, plasof):\n",
    "        self.pf=plasof\n"
   ]
  },
  {
   "cell_type": "code",
   "execution_count": 28,
   "metadata": {},
   "outputs": [],
   "source": [
    "# coding=System\n",
    "\n",
    "class PlazoFijo:\n",
    "    \"\"\"\n",
    "    inicializamos los atributos de la clase\n",
    "    :version:\n",
    "    :author:\n",
    "    \"\"\"\n",
    "  \n",
    "    def __init__(self, cantidad, plazo, interes):\n",
    "        \"\"\"\n",
    "        calculamos la ganancia\n",
    "        @param string titular : \n",
    "        @param string cantidad : \n",
    "        @param string plazo : \n",
    "        @param string interes : \n",
    "        @return string :\n",
    "        @author\n",
    "        \"\"\"\n",
    "        self.cantidad=cantidad\n",
    "        self.plazo=plazo\n",
    "        self.interes=interes\n",
    "\n",
    "    def ganancia(self):\n",
    "        \"\"\"\n",
    "        imprimimos los resultados\n",
    "        @return string :\n",
    "        @author\n",
    "        \"\"\"\n",
    "        ganancia=self.cantidad*self.interes/100\n",
    "        print(\"El importe de interés es: \",ganancia)\n",
    "\n",
    "    def imprimir(self):\n",
    "        \"\"\"\n",
    "        creamos la clase Cliente\n",
    "        @return string :\n",
    "        @author\n",
    "        \"\"\"\n",
    "        print(\"Cuenta a plazo fijo\")\n",
    "        print(\"Plazo disponible en días: \",self.plazo)\n",
    "        print(\"Interés: \",self.interes)\n",
    "        self.ganancia()"
   ]
  },
  {
   "cell_type": "code",
   "execution_count": null,
   "metadata": {},
   "outputs": [],
   "source": []
  },
  {
   "cell_type": "code",
   "execution_count": 29,
   "metadata": {},
   "outputs": [],
   "source": [
    "# coding=System\n",
    "#from CajaAhorro import *\n",
    "#from PlazoFijo import *\n",
    "\n",
    "class Cliente:\n",
    "    \"\"\"\n",
    "    inicializamos\n",
    "    :version:\n",
    "    :author:\n",
    "    \"\"\"\n",
    "    \"\"\" ATTRIBUTES\n",
    "    nombre  (public)\n",
    "    cantidad  (public)\n",
    "    CajaAhorro  (public)\n",
    "    PlazoFijo  (public)\n",
    "    \"\"\"\n",
    "\n",
    "    def __init__(self, nombre):\n",
    "        \"\"\"\n",
    "        función para depositar dinero\n",
    "        @param string nombre : \n",
    "        @return string :\n",
    "        @author\n",
    "        \"\"\"\n",
    "        self.nombre=nombre\n",
    "        self.cuenta=Cuenta(\"pf\",1000)\n",
    "        #self.CajaAhorro=CajaAhorro(self.nombre,0)\n",
    "        #self.PlazoFijo=PlazoFijo(self.nombre,0,0,0)\n",
    "    \n",
    "    def mostrar_cuenta(self):\n",
    "        print(self.nombre)\n",
    "        self.cuenta.imprimir()"
   ]
  },
  {
   "cell_type": "code",
   "execution_count": 30,
   "metadata": {},
   "outputs": [],
   "source": [
    "class Banco:\n",
    "    \"\"\"\n",
    "    inicializamos\n",
    "    :version:\n",
    "    :author:\n",
    "    \"\"\"\n",
    "    def __init__(self, cliente):\n",
    "        \"\"\"\n",
    "        función para operar\n",
    "        @return string :\n",
    "        @author\n",
    "        \"\"\"\n",
    "        self.cliente= cliente"
   ]
  },
  {
   "cell_type": "code",
   "execution_count": 31,
   "metadata": {},
   "outputs": [],
   "source": [
    "cliente =[]\n",
    "cliente.insert(0,Cliente(\"Pepe\"))\n",
    "cliente.insert(1,Cliente(\"Jose\"))               \n",
    "banco=Banco(cliente)"
   ]
  },
  {
   "cell_type": "code",
   "execution_count": 32,
   "metadata": {},
   "outputs": [
    {
     "data": {
      "text/plain": [
       "'Pepe'"
      ]
     },
     "execution_count": 32,
     "metadata": {},
     "output_type": "execute_result"
    }
   ],
   "source": [
    "banco.cliente[0].nombre"
   ]
  },
  {
   "cell_type": "code",
   "execution_count": 33,
   "metadata": {},
   "outputs": [
    {
     "name": "stdout",
     "output_type": "stream",
     "text": [
      "Jose\n",
      "Tipo:  pf\n",
      "Cantidad:  1000\n"
     ]
    }
   ],
   "source": [
    "banco.cliente[1].mostrar_cuenta()"
   ]
  },
  {
   "cell_type": "code",
   "execution_count": 34,
   "metadata": {},
   "outputs": [
    {
     "name": "stdout",
     "output_type": "stream",
     "text": [
      "Tipo:  pf\n",
      "Cantidad:  1000\n"
     ]
    }
   ],
   "source": [
    "banco.cliente[1].cuenta.imprimir()"
   ]
  },
  {
   "cell_type": "code",
   "execution_count": 35,
   "metadata": {},
   "outputs": [],
   "source": [
    "banco.cliente[0].cuenta.pf(PlazoFijo(1500,2,0.2))"
   ]
  },
  {
   "cell_type": "code",
   "execution_count": 36,
   "metadata": {},
   "outputs": [
    {
     "name": "stdout",
     "output_type": "stream",
     "text": [
      "Cuenta a plazo fijo\n",
      "Plazo disponible en días:  2\n",
      "Interés:  0.2\n",
      "El importe de interés es:  3.0\n"
     ]
    }
   ],
   "source": [
    "banco.cliente[0].cuenta.pf.imprimir()"
   ]
  }
 ],
 "metadata": {
  "kernelspec": {
   "display_name": "Python 3",
   "language": "python",
   "name": "python3"
  },
  "language_info": {
   "codemirror_mode": {
    "name": "ipython",
    "version": 3
   },
   "file_extension": ".py",
   "mimetype": "text/x-python",
   "name": "python",
   "nbconvert_exporter": "python",
   "pygments_lexer": "ipython3",
   "version": "3.6.12"
  }
 },
 "nbformat": 4,
 "nbformat_minor": 4
}
